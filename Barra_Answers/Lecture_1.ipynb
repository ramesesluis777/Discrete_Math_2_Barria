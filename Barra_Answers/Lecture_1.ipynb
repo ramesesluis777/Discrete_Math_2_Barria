{
 "cells": [
  {
   "cell_type": "markdown",
   "metadata": {},
   "source": [
    "# Name: Rameses Barria\n",
    "# Course: BSCS-1\n",
    "# Id: 23102264\n",
    "# Questions:\n",
    "---\n",
    "\n",
    "1. $\\textbf{Why do we need to prove?}$\n",
    "\n",
    "    We need to prove to establish the validity of a statement or theorem. Proofs provide the logical reasoning that shows that a statement or theorem is correct, allowing us to rely on them for further calculations.\n",
    "    \n",
    "2. $\\textbf{If we fail to generate a proof, what will happen?}$\n",
    "\n",
    "    If we fail to generate a proof, we can't establish the validity of the statement or theorem and use it in further reasoning."
   ]
  },
  {
   "cell_type": "markdown",
   "metadata": {},
   "source": [
    "# 1. Prove that the Euler's number $e = \\Sigma_{k=0}^\\infty \\frac{1}{k!} \\notin \\mathbb{Q}$.\n",
    "---\n",
    "Recall that a rational number is one that can be expressed as the quotient of two integers. We want to prove that Euler's number $e = \\sum_{k=0}^\\infty \\frac{1}{k!} \\notin \\mathbb{Q}$.\n",
    "\n",
    "$\\textit{Proof:}$\n",
    "\n",
    "Assume for contradiction that $e$ is rational, then $e = \\frac{a}{b}$, where $a$ and $b$ are integers and $b \\neq 0$.\n",
    "\n",
    "Consider the series expansion of $e$:\n",
    "\n",
    "\\[ $e = \\sum_{k=0}^\\infty \\frac{1}{k!} = 1 + \\frac{1}{1!} + \\frac{1}{2!} + \\frac{1}{3!} + \\dots $\\]\n",
    "\n",
    "Multiply both sides by $b!$ to clear the denominators:\n",
    "\n",
    "\\[ $b!e = b!\\left(1 + \\frac{1}{1!} + \\frac{1}{2!} + \\frac{1}{3!} + \\dots \\right) = b!(1 + b + \\frac{b(b-1)}{2!} + \\frac{b(b-1)(b-2)}{3!} + \\dots)$ \\]\n",
    "\n",
    "Now, notice that the right side is an integer because every term is a multiple of $b!$. Therefore, $e$ must be rational, contradicting our assumption. Hence, $e \\notin \\mathbb{Q}$."
   ]
  },
  {
   "cell_type": "markdown",
   "metadata": {},
   "source": [
    "# 2. Prove Minkowski's Inequality for sums, $\\forall \\ p>1, (a_k, b_k)>0$:\n",
    "---\n",
    "\n",
    "We want to prove Minkowski's Inequality for sums:\n",
    "\\[ $\\left(\\sum_{k=1}^n |a_k + b_k|^p\\right)^\\frac{1}{p} \\leq \\left(\\sum_{k=1}^n |a_k|^p\\right)^\\frac{1}{p} + \\left(\\sum_{k=1}^n |b_k|^p\\right)^\\frac{1}{p} $\\]\n",
    "\n",
    "$\\textit{Proof:}$\n",
    "\n",
    "The proof involves using Hölder's inequality. Let $q$ be the conjugate exponent of $p$ (i.e., $\\frac{1}{p} + \\frac{1}{q} = 1$).\n",
    "\n",
    "Apply Hölder's inequality with $p$ and $q$ to the sequences $(|a_k|^p)$ and $(1)$, and to the sequences $(|b_k|^p)$ and $(1)$:\n",
    "\n",
    "\\[ $\\sum_{k=1}^n |a_k|^p \\cdot 1 \\leq \\left(\\sum_{k=1}^n |a_k|^p\\right)^\\frac{1}{p} \\left(\\sum_{k=1}^n 1^q\\right)^\\frac{1}{q} = \\left(\\sum_{k=1}^n |a_k|^p\\right)^\\frac{1}{p} \\cdot n^\\frac{1}{q} $\\]\n",
    "\\[ $\\sum_{k=1}^n |b_k|^p \\cdot 1 \\leq \\left(\\sum_{k=1}^n |b_k|^p\\right)^\\frac{1}{p} \\left(\\sum_{k=1}^n 1^q\\right)^\\frac{1}{q} = \\left(\\sum_{k=1}^n |b_k|^p\\right)^\\frac{1}{p} \\cdot n^\\frac{1}{q} $\\]\n",
    "\n",
    "Add these inequalities:\n",
    "\n",
    "\\[ $\\sum_{k=1}^n |a_k|^p + \\sum_{k=1}^n |b_k|^p \\leq \\left(\\sum_{k=1}^n |a_k|^p\\right)^\\frac{1}{p} \\cdot n^\\frac{1}{q} + \\left(\\sum_{k=1}^n |b_k|^p\\right)^\\frac{1}{p} \\cdot n^\\frac{1}{q} $\\]\n",
    "\n",
    "\\[ $\\sum_{k=1}^n (|a_k|^p + |b_k|^p) \\leq \\left(\\sum_{k=1}^n |a_k|^p\\right)^\\frac{1}{p} \\cdot n^\\frac{1}{q} + \\left(\\sum_{k=1}^n |b_k|^p\\right)^\\frac{1}{p} \\cdot n^\\frac{1}{q} $\\]\n",
    "\n",
    "Now, raise both sides to the power of $\\frac{1}{p}$:\n",
    "\n",
    "\\[ $\\left(\\sum_{k=1}^n (|a_k|^p + |b_k|^p)\\right)^\\frac{1}{p} \\leq \\left(\\left(\\sum_{k=1}^n |a_k|^p\\right)^\\frac{1}{p} \\cdot n^\\frac{1}{q} + \\left(\\sum_{k=1}^n |b_k|^p\\right)^\\frac{1}{p} \\cdot n^\\frac{1}{q}\\right)^\\frac{1}{p} $\\]\n",
    "\n",
    "\\[ $\\left(\\sum_{k=1}^n (|a_k + b_k|^p)\\right)^\\frac{1}{p} \\leq \\left(\\sum_{k=1}^n |a_k|^p\\right)^\\frac{1}{p} + \\left(\\sum_{k=1}^n |b_k|^p\\right)^\\frac{1}{p} $\\]\n",
    "\n",
    "Which proves Minkowski's Inequality."
   ]
  },
  {
   "cell_type": "markdown",
   "metadata": {},
   "source": [
    "# 3. Prove the triangle inequality $|x+y| \\leq |x| + |y|, \\forall (x,y) \\in \\mathbb{R}$\n",
    "---\n",
    "\n",
    "$\\textit{Proof:}$\n",
    "\n",
    "Consider three cases:\n",
    "\n",
    "1. If $x \\geq 0$ and $y \\geq 0$, then $|x| = x$ and $|y| = y$, so $|x+y| = x+y$. Then $|x+y| = x + y \\leq |x| + |y|$.\n",
    "2. If $x \\geq 0$ and $y < 0$, then $|x| = x$ and $|y| = -y$, so $|x+y| = x-y$. Then $|x+y| = x - y \\leq |x| + |y|$.\n",
    "3. If $x < 0$ and $y < 0$, then $|x| = -x$ and $|y| = -y$, so $|x+y| = -(x+y) = -x - y$. Then $|x+y| = -(x + y) \\leq |x| + |y|$."
   ]
  },
  {
   "cell_type": "markdown",
   "metadata": {},
   "source": [
    "# 4. Prove Sedrakayan's Lemma $\\forall u_i, v_i \\in \\mathbb{R}^+$:\n",
    "---\n",
    "\n",
    "Prove Sedrakayan's Lemma $\\forall u_i, v_i \\in \\mathbb{R}^+$:\n",
    "\n",
    "$\\frac{(\\sum_{i=1}^n u_i)^2}{\\sum_{i=1}^n v_i} \\leq \\sum_{i=1}^n \\frac{(u_i)^2}{v_i}$\n",
    "\n",
    "$\\textit{Proof:}$\n",
    "\n",
    "Let $\\mathbf{u} = (u_1, u_2, ..., u_n)$ and $\\mathbf{v} = (v_1, v_2, ..., v_n)$ be vectors in $\\mathbb{R}^+$.\n",
    "\n",
    "By Cauchy-Schwarz Inequality, we have:\n",
    "\n",
    "$\\left(\\sum_{i=1}^n u_i v_i\\right)^2 \\leq \\left(\\sum_{i=1}^n u_i^2\\right) \\left(\\sum_{i=1}^n v_i^2\\right)$\n",
    "\n",
    "Since $v_i > 0$ for all $i$, we can divide both sides by $\\left(\\sum_{i=1}^n v_i^2\\right): \\frac{\\left(\\sum_{i=1}^n u_i v_i\\right)^2}{\\left(\\sum_{i=1}^n v_i^2\\right)} \\leq \\sum_{i=1}^n u_i^2$\n",
    "\n",
    "Now, notice that $\\left(\\sum_{i=1}^n u_i v_i\\right) = \\mathbf{u} \\cdot \\mathbf{v}$ and $\\sum_{i=1}^n u_i^2 = \\|\\mathbf{u}\\|^2$, where $\\|\\cdot\\|$ denotes the Euclidean norm.\n",
    "\n",
    "Thus, we have: $\\frac{(\\mathbf{u} \\cdot \\mathbf{v})^2}{\\|\\mathbf{v}\\|^2} \\leq \\|\\mathbf{u}\\|^2$\n",
    "\n",
    "Dividing both sides by $\\|\\mathbf{v}\\|^2$, we get: $\\frac{(\\mathbf{u} \\cdot \\mathbf{v})^2}{\\|\\mathbf{v}\\|^2 \\|\\mathbf{v}\\|^2} \\leq \\frac{\\|\\mathbf{u}\\|^2}{\\|\\mathbf{v}\\|^2}$\n",
    "\n",
    "Simplifying, we obtain: $\\frac{(\\mathbf{u} \\cdot \\mathbf{v})^2}{\\|\\mathbf{v}\\|^4} \\leq \\frac{\\|\\mathbf{u}\\|^2}{\\|\\mathbf{v}\\|^2}$\n",
    "\n",
    "Now, substituting $\\|\\mathbf{v}\\|^2 = \\sum_{i=1}^n v_i$ and rearranging, we get: $\\frac{(\\sum_{i=1}^n u_i)^2}{\\sum_{i=1}^n v_i} \\leq \\sum_{i=1}^n \\frac{u_i^2}{v_i}$\n",
    "\n",
    "This proves Sedrakayan's Lemma.\n",
    "\n"
   ]
  }
 ],
 "metadata": {
  "language_info": {
   "name": "python"
  }
 },
 "nbformat": 4,
 "nbformat_minor": 2
}
